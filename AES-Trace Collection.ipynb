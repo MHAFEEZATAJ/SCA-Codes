{
 "cells": [
  {
   "cell_type": "code",
   "execution_count": 26,
   "id": "f87ff931-4c2c-4ade-b6d4-4a6246c824cf",
   "metadata": {},
   "outputs": [],
   "source": [
    "import chipwhisperer as cw"
   ]
  },
  {
   "cell_type": "markdown",
   "id": "45dd02ee",
   "metadata": {},
   "source": [
    "# Initailizing the scope and target Parameters"
   ]
  },
  {
   "cell_type": "code",
   "execution_count": 27,
   "id": "3b3d430c-a164-4c2b-b59b-ebd2c90da872",
   "metadata": {},
   "outputs": [],
   "source": [
    "scope = cw.scope()"
   ]
  },
  {
   "cell_type": "code",
   "execution_count": 28,
   "id": "53b6f942-ca80-4d9d-b616-9b2433aa6545",
   "metadata": {},
   "outputs": [],
   "source": [
    "target_type = cw.targets.SimpleSerial"
   ]
  },
  {
   "cell_type": "code",
   "execution_count": 29,
   "id": "1071db02-ff3e-4147-8ecc-922ea4f60a53",
   "metadata": {},
   "outputs": [],
   "source": [
    "target = cw.target(scope, target_type)"
   ]
  },
  {
   "cell_type": "code",
   "execution_count": 30,
   "id": "57889ae9-b0ce-4921-93b9-19a8196089d8",
   "metadata": {},
   "outputs": [],
   "source": [
    "prog = cw.programmers.STM32FProgrammer"
   ]
  },
  {
   "cell_type": "code",
   "execution_count": null,
   "id": "9eabb50f-bbb0-4238-9874-2d1210f27aee",
   "metadata": {},
   "outputs": [],
   "source": [
    "import time\n",
    "time.sleep(0.05)\n",
    "scope.default_setup()\n",
    "scope.io.nrst = 'low'\n",
    "time.sleep(0.05)\n",
    "scope.io.nrst = 'high_z'\n",
    "time.sleep(0.05)"
   ]
  },
  {
   "cell_type": "code",
   "execution_count": 32,
   "id": "a0f4a28d-0775-4dff-9444-17d3c5782aa2",
   "metadata": {},
   "outputs": [],
   "source": [
    "SCOPETYPE = 'OPENADC'\n",
    "PLATFORM = 'CWNANO'\n",
    "CRYPTO_TARGET='TINYAES128C'\n",
    "SS_VER='SS_VER_1_1'"
   ]
  },
  {
   "cell_type": "markdown",
   "id": "2064c451",
   "metadata": {},
   "source": [
    "# Invoking the makefiles and Generate Necessary files for Dump on Target"
   ]
  },
  {
   "cell_type": "code",
   "execution_count": 33,
   "id": "9e91c99f-75cf-4932-868e-3772751b3228",
   "metadata": {
    "scrolled": true
   },
   "outputs": [
    {
     "name": "stdout",
     "output_type": "stream",
     "text": [
      "Building for platform CWNANO with CRYPTO_TARGET=TINYAES128C\n",
      "SS_VER set to SS_VER_1_1\n",
      "SS_VER set to SS_VER_1_1\n",
      "Blank crypto options, building for AES128\n",
      "Building for platform CWNANO with CRYPTO_TARGET=TINYAES128C\n",
      "SS_VER set to SS_VER_1_1\n",
      "SS_VER set to SS_VER_1_1\n",
      "Blank crypto options, building for AES128\n",
      "make[1]: '.dep' is up to date.\n",
      "Building for platform CWNANO with CRYPTO_TARGET=TINYAES128C\n",
      "SS_VER set to SS_VER_1_1\n",
      "SS_VER set to SS_VER_1_1\n",
      "Blank crypto options, building for AES128\n",
      ".\n",
      "Welcome to another exciting ChipWhisperer target build!!\n",
      "arm-none-eabi-gcc (GNU Arm Embedded Toolchain 10-2020-q4-major) 10.2.1 20201103 (release)\n",
      "Copyright (C) 2020 Free Software Foundation, Inc.\n",
      "This is free software; see the source for copying conditions.  There is NO\n",
      "warranty; not even for MERCHANTABILITY or FITNESS FOR A PARTICULAR PURPOSE.\n",
      "\n",
      ".\n",
      "Compiling:\n",
      "    simpleserial-aes.c ...Done!\n",
      ".\n",
      "Compiling:\n",
      "    .././simpleserial/simpleserial.c ...Done!\n",
      ".\n",
      "Compiling:\n",
      "    .././hal/stm32f0_nano/stm32f0_hal_nano.c ...Done!\n",
      ".\n",
      "Compiling:\n",
      "    .././hal/stm32f0/stm32f0_hal_lowlevel.c ...Done!\n",
      ".\n",
      "Compiling:\n",
      "    .././crypto/tiny-AES128-C/aes.c ...Done!\n",
      ".\n",
      "Compiling:\n",
      "    .././crypto/aes-independant.c ...Done!\n",
      ".\n",
      "Assembling: .././hal/stm32f0/stm32f0_startup.S\n",
      "arm-none-eabi-gcc -c -mcpu=cortex-m0 -I. -x assembler-with-cpp -mthumb -mfloat-abi=soft -ffunction-sections -DF_CPU=7372800 -Wa,-gstabs,-adhlns=objdir-CWNANO/stm32f0_startup.lst -I.././simpleserial/ -I.././simpleserial/ -I.././hal -I.././hal/stm32f0 -I.././hal/stm32f0/CMSIS -I.././hal/stm32f0/CMSIS/core -I.././hal/stm32f0/CMSIS/device -I.././hal/stm32f0/Legacy -I.././crypto/ -I.././crypto/tiny-AES128-C .././hal/stm32f0/stm32f0_startup.S -o objdir-CWNANO/stm32f0_startup.o\n",
      ".\n",
      "LINKING:\n",
      "    simpleserial-aes-CWNANO.elf ...Done!\n",
      ".\n",
      "Creating load file for Flash: simpleserial-aes-CWNANO.hex\n",
      "arm-none-eabi-objcopy -O ihex -R .eeprom -R .fuse -R .lock -R .signature simpleserial-aes-CWNANO.elf simpleserial-aes-CWNANO.hex\n",
      ".\n",
      "Creating load file for Flash: simpleserial-aes-CWNANO.bin\n",
      "arm-none-eabi-objcopy -O binary -R .eeprom -R .fuse -R .lock -R .signature simpleserial-aes-CWNANO.elf simpleserial-aes-CWNANO.bin\n",
      ".\n",
      "Creating load file for EEPROM: simpleserial-aes-CWNANO.eep\n",
      "arm-none-eabi-objcopy -j .eeprom --set-section-flags=.eeprom=\"alloc,load\" \\\n",
      "--change-section-lma .eeprom=0 --no-change-warnings -O ihex simpleserial-aes-CWNANO.elf simpleserial-aes-CWNANO.eep || exit 0\n",
      ".\n",
      "Creating Extended Listing: simpleserial-aes-CWNANO.lss\n",
      "arm-none-eabi-objdump -h -S -z simpleserial-aes-CWNANO.elf > simpleserial-aes-CWNANO.lss\n",
      ".\n",
      "Creating Symbol Table: simpleserial-aes-CWNANO.sym\n",
      "arm-none-eabi-nm -n simpleserial-aes-CWNANO.elf > simpleserial-aes-CWNANO.sym\n",
      "Building for platform CWNANO with CRYPTO_TARGET=TINYAES128C\n",
      "SS_VER set to SS_VER_1_1\n",
      "SS_VER set to SS_VER_1_1\n",
      "Blank crypto options, building for AES128\n",
      "Size after:\n",
      "   text\t   data\t    bss\t    dec\t    hex\tfilename\n",
      "   5432\t    540\t   1628\t   7600\t   1db0\tsimpleserial-aes-CWNANO.elf\n",
      "+--------------------------------------------------------\n",
      "+ Default target does full rebuild each time.\n",
      "+ Specify buildtarget == allquick == to avoid full rebuild\n",
      "+--------------------------------------------------------\n",
      "+--------------------------------------------------------\n",
      "+ Built for platform CWNANO Built-in Target (STM32F030) with:\n",
      "+ CRYPTO_TARGET = TINYAES128C\n",
      "+ CRYPTO_OPTIONS = AES128C\n",
      "+--------------------------------------------------------\n"
     ]
    }
   ],
   "source": [
    "%%sh \n",
    "cd \"C:/Users/ankid/ChipWhisperer5_64/cw/home/portable/chipwhisperer/hardware/victims/firmware/simpleserial-aes\"\n",
    "make PLATFORM=CWNANO CRYPTO_TARGET=TINYAES128C"
   ]
  },
  {
   "cell_type": "markdown",
   "id": "0977bba3",
   "metadata": {},
   "source": [
    "# Programming Target with .hex file"
   ]
  },
  {
   "cell_type": "code",
   "execution_count": 34,
   "id": "d4a0741d-0c53-42b8-b3f6-44467bcc8c3c",
   "metadata": {
    "scrolled": true
   },
   "outputs": [
    {
     "name": "stdout",
     "output_type": "stream",
     "text": [
      "Detected known STMF32: STM32F04xxx\n",
      "Extended erase (0x44), this can take ten seconds or more\n",
      "Attempting to program 5971 bytes at 0x8000000\n",
      "STM32F Programming flash...\n",
      "STM32F Reading flash...\n",
      "Verified flash OK, 5971 bytes\n"
     ]
    }
   ],
   "source": [
    "cw.program_target(scope, cw.programmers.STM32FProgrammer, \"C:/Users/ankid/ChipWhisperer5_64/cw/home/portable/chipwhisperer/hardware/victims/firmware/simpleserial-aes/simpleserial-aes-CWNANO.hex\")"
   ]
  },
  {
   "cell_type": "markdown",
   "id": "634ef43a",
   "metadata": {},
   "source": [
    "# Writing the key and collecting the trace"
   ]
  },
  {
   "cell_type": "code",
   "execution_count": 48,
   "id": "7008cc42-af38-4a8e-8236-adb5a90d074a",
   "metadata": {},
   "outputs": [],
   "source": [
    "from tqdm.notebook import trange\n",
    "import numpy as np\n",
    "import time\n",
    "\n",
    "key = bytearray.fromhex('20 12 32 59 64 36 10 20 38 11 27 54 13 65 24 33')\n",
    "#pt = bytearray.fromhex('00 11 22 33 44 55 66 77 88 99 aa bb cc dd ee ff')\n",
    "\n",
    "target.simpleserial_write('k', key)\n",
    "#target.simpleserial_write('p', pt)\n",
    "time.sleep(0.1)  # The sleep is compulsory or else u will get time out error --->UART related issue\n",
    "\n",
    "num_plaintexts= 3000\n",
    "plaintexts = [bytearray([(i + j) % 256 for j in range(16)]) for i in range(num_plaintexts)]\n",
    "\n",
    "trace_array = []\n",
    "textin_array = []\n",
    "textout_array = []\n",
    "\n",
    "#key, text = ktp.next()\n",
    "\n",
    "#target.set_key(key)\n",
    "\n",
    "#N = 100\n",
    "#Looping to each plaintext in the created plaintexts list\n",
    "for p in pt:\n",
    "    target.flush()\n",
    "    scope.arm()\n",
    "    \n",
    "    target.simpleserial_write('p', p)   # Passing the Plain text\n",
    "    \n",
    "    ret = scope.capture()  # Increase timeout duration\n",
    "\n",
    "    #ret = scope.capture()\n",
    "    if ret:\n",
    "        print(\"Target timed out!\")\n",
    "        continue\n",
    "    \n",
    "    response = target.simpleserial_read('r', 16)  # Read The cipher text\n",
    "\n",
    "    textout_array.append(response)\n",
    "    \n",
    "    trace_array.append(scope.get_last_trace())\n",
    "    textin_array.append(p)\n",
    "    \n",
    "    #key, text = ktp.next() "
   ]
  },
  {
   "cell_type": "code",
   "execution_count": 46,
   "id": "2deb062e-64e7-47bd-b126-63a505633131",
   "metadata": {},
   "outputs": [
    {
     "name": "stdout",
     "output_type": "stream",
     "text": [
      "(100, 5000)\n"
     ]
    }
   ],
   "source": [
    "import numpy as np\n",
    "\n",
    "trace_array = np.array(trace_array)  # Convert list to NumPy array\n",
    "print(trace_array.shape)  # Now you can access the shape\n"
   ]
  },
  {
   "cell_type": "markdown",
   "id": "61412839",
   "metadata": {},
   "source": [
    "# Visualizing The Trace "
   ]
  },
  {
   "cell_type": "code",
   "execution_count": 37,
   "id": "a56bfcd7-8569-4555-a81a-7182fc3d954e",
   "metadata": {},
   "outputs": [
    {
     "data": {
      "text/plain": [
       "[<matplotlib.lines.Line2D at 0x29e87126c50>]"
      ]
     },
     "execution_count": 37,
     "metadata": {},
     "output_type": "execute_result"
    },
    {
     "data": {
      "image/png": "[encoded data removed]",
      "text/plain": [
       "<Figure size 640x480 with 1 Axes>"
      ]
     },
     "metadata": {},
     "output_type": "display_data"
    }
   ],
   "source": [
    "import matplotlib.pyplot as plt\n",
    "plt.plot(trace_array[0])"
   ]
  },
  {
   "cell_type": "code",
   "execution_count": 13,
   "id": "73c56f92-763b-4d47-8210-450be4026ce9",
   "metadata": {
    "scrolled": true
   },
   "outputs": [
    {
     "data": {
      "text/plain": [
       "[array([0.28515625, 0.0234375 , 0.125     , ..., 0.30078125, 0.07421875,\n",
       "        0.19921875]),\n",
       " array([0.16015625, 0.28515625, 0.03125   , ..., 0.16015625, 0.28515625,\n",
       "        0.0625    ]),\n",
       " array([-0.078125  ,  0.28515625,  0.0234375 , ...,  0.1640625 ,\n",
       "         0.29296875,  0.07421875]),\n",
       " array([-0.0859375 ,  0.29296875,  0.02734375, ...,  0.1640625 ,\n",
       "         0.296875  ,  0.08203125]),\n",
       " array([-0.08984375,  0.2890625 ,  0.02734375, ...,  0.16015625,\n",
       "         0.2890625 ,  0.0703125 ]),\n",
       " array([0.12890625, 0.28515625, 0.0234375 , ..., 0.16015625, 0.30078125,\n",
       "        0.07421875]),\n",
       " array([-0.08203125,  0.296875  ,  0.03125   , ...,  0.1640625 ,\n",
       "         0.29296875,  0.06640625]),\n",
       " array([0.12109375, 0.29296875, 0.03125   , ..., 0.16796875, 0.29296875,\n",
       "        0.07421875]),\n",
       " array([-0.08203125,  0.296875  ,  0.03515625, ...,  0.16015625,\n",
       "         0.29296875,  0.07421875]),\n",
       " array([-0.08203125,  0.296875  ,  0.03515625, ...,  0.16015625,\n",
       "         0.296875  ,  0.078125  ]),\n",
       " array([-0.08203125,  0.29296875,  0.03125   , ...,  0.1640625 ,\n",
       "         0.30078125,  0.07421875]),\n",
       " array([-0.078125  ,  0.2890625 ,  0.02734375, ...,  0.16015625,\n",
       "         0.29296875,  0.07421875]),\n",
       " array([-0.08203125,  0.296875  ,  0.03515625, ...,  0.171875  ,\n",
       "         0.29296875,  0.0703125 ]),\n",
       " array([0.015625  , 0.29296875, 0.03515625, ..., 0.171875  , 0.29296875,\n",
       "        0.07421875]),\n",
       " array([-0.078125  ,  0.29296875,  0.02734375, ...,  0.16015625,\n",
       "         0.2890625 ,  0.07421875]),\n",
       " array([-0.08203125,  0.29296875,  0.03515625, ...,  0.16796875,\n",
       "         0.296875  ,  0.07421875]),\n",
       " array([-0.078125  ,  0.29296875,  0.03515625, ...,  0.1640625 ,\n",
       "         0.28515625,  0.06640625]),\n",
       " array([-0.078125  ,  0.29296875,  0.03515625, ...,  0.16796875,\n",
       "         0.296875  ,  0.0703125 ]),\n",
       " array([-0.078125  ,  0.29296875,  0.0390625 , ...,  0.1640625 ,\n",
       "         0.29296875,  0.06640625]),\n",
       " array([0.12890625, 0.30078125, 0.03515625, ..., 0.171875  , 0.2890625 ,\n",
       "        0.0625    ]),\n",
       " array([-0.078125  ,  0.29296875,  0.03515625, ...,  0.16796875,\n",
       "         0.29296875,  0.07421875]),\n",
       " array([-0.08203125,  0.29296875,  0.02734375, ...,  0.16796875,\n",
       "         0.29296875,  0.078125  ]),\n",
       " array([-0.08984375,  0.28515625,  0.03125   , ...,  0.16796875,\n",
       "         0.296875  ,  0.07421875]),\n",
       " array([-0.078125  ,  0.28515625,  0.03515625, ...,  0.171875  ,\n",
       "         0.30859375,  0.07421875]),\n",
       " array([-0.08203125,  0.296875  ,  0.03515625, ...,  0.15625   ,\n",
       "         0.29296875,  0.0625    ]),\n",
       " array([-0.08203125,  0.29296875,  0.03515625, ...,  0.171875  ,\n",
       "         0.3046875 ,  0.07421875]),\n",
       " array([0.27734375, 0.2890625 , 0.03125   , ..., 0.15625   , 0.28515625,\n",
       "        0.07421875]),\n",
       " array([-0.078125  ,  0.28515625,  0.0234375 , ...,  0.16015625,\n",
       "         0.30078125,  0.0703125 ]),\n",
       " array([-0.08203125,  0.29296875,  0.03515625, ...,  0.16015625,\n",
       "         0.2890625 ,  0.07421875]),\n",
       " array([-0.07421875,  0.28515625,  0.02734375, ...,  0.16796875,\n",
       "         0.296875  ,  0.06640625]),\n",
       " array([-0.078125  ,  0.296875  ,  0.03515625, ...,  0.16796875,\n",
       "         0.29296875,  0.07421875]),\n",
       " array([-0.078125  ,  0.296875  ,  0.03515625, ...,  0.171875  ,\n",
       "         0.29296875,  0.07421875]),\n",
       " array([-0.08203125,  0.29296875,  0.03515625, ...,  0.16015625,\n",
       "         0.29296875,  0.07421875]),\n",
       " array([-0.08203125,  0.29296875,  0.03515625, ...,  0.16015625,\n",
       "         0.2890625 ,  0.0703125 ]),\n",
       " array([-0.08203125,  0.29296875,  0.03515625, ...,  0.16015625,\n",
       "         0.28515625,  0.07421875]),\n",
       " array([0.12109375, 0.29296875, 0.03515625, ..., 0.171875  , 0.30078125,\n",
       "        0.07421875]),\n",
       " array([0.16015625, 0.29296875, 0.02734375, ..., 0.1640625 , 0.29296875,\n",
       "        0.07421875]),\n",
       " array([-0.078125  ,  0.29296875,  0.02734375, ...,  0.16796875,\n",
       "         0.29296875,  0.07421875]),\n",
       " array([-0.08203125,  0.2890625 ,  0.02734375, ...,  0.16796875,\n",
       "         0.296875  ,  0.07421875]),\n",
       " array([0.26953125, 0.29296875, 0.03125   , ..., 0.16796875, 0.29296875,\n",
       "        0.08203125]),\n",
       " array([-0.08203125,  0.29296875,  0.03515625, ...,  0.16796875,\n",
       "         0.29296875,  0.07421875]),\n",
       " array([-0.078125  ,  0.28515625,  0.03515625, ...,  0.15625   ,\n",
       "         0.28515625,  0.06640625]),\n",
       " array([-0.07421875,  0.29296875,  0.02734375, ...,  0.16015625,\n",
       "         0.2890625 ,  0.05859375]),\n",
       " array([-0.07421875,  0.29296875,  0.03515625, ...,  0.1640625 ,\n",
       "         0.29296875,  0.06640625]),\n",
       " array([-0.078125  ,  0.29296875,  0.03515625, ...,  0.16796875,\n",
       "         0.30078125,  0.07421875]),\n",
       " array([0.125     , 0.29296875, 0.03515625, ..., 0.16796875, 0.29296875,\n",
       "        0.06640625]),\n",
       " array([-0.078125  ,  0.296875  ,  0.03515625, ...,  0.16796875,\n",
       "         0.29296875,  0.0703125 ]),\n",
       " array([-0.08203125,  0.29296875,  0.02734375, ...,  0.16796875,\n",
       "         0.2890625 ,  0.0703125 ]),\n",
       " array([0.27734375, 0.296875  , 0.02734375, ..., 0.16015625, 0.2890625 ,\n",
       "        0.078125  ])]"
      ]
     },
     "execution_count": 13,
     "metadata": {},
     "output_type": "execute_result"
    }
   ],
   "source": [
    "trace_array"
   ]
  },
  {
   "cell_type": "markdown",
   "id": "e6f16f54",
   "metadata": {},
   "source": [
    "# Convert Collected data into suitable form"
   ]
  },
  {
   "cell_type": "code",
   "execution_count": 14,
   "id": "f15e8efb-c831-4ffb-835c-7adb98c9a662",
   "metadata": {},
   "outputs": [
    {
     "name": "stdout",
     "output_type": "stream",
     "text": [
      "(49, 5000)\n"
     ]
    }
   ],
   "source": [
    "import numpy as np\n",
    "\n",
    "trace_array = np.array(trace_array)  # Convert list to NumPy array\n",
    "print(trace_array.shape)  # Now you can access the shape\n",
    "textin_array=np.array(textin_array)\n",
    "textout_array=np.array(textout_array)\n"
   ]
  },
  {
   "cell_type": "markdown",
   "id": "fb49ebc5",
   "metadata": {},
   "source": [
    "# Saving the data in .npy file for further use"
   ]
  },
  {
   "cell_type": "code",
   "execution_count": null,
   "id": "2995d4a5",
   "metadata": {},
   "outputs": [],
   "source": [
    "np.save('trace.npy',trace_array)\n",
    "np.save('plaintext.npy',textin_array)\n",
    "np.save('ciphertext.npy',textout_array)"
   ]
  },
  {
   "cell_type": "markdown",
   "id": "b8a9bf2a",
   "metadata": {},
   "source": [
    "# Disconnect with scope and target"
   ]
  },
  {
   "cell_type": "code",
   "execution_count": 52,
   "id": "cbc81cb6-abf3-45f6-95f5-550940be7ab1",
   "metadata": {},
   "outputs": [],
   "source": [
    "scope.dis()\n",
    "target.dis()"
   ]
  },
  {
   "cell_type": "code",
   "execution_count": null,
   "id": "8c684381-e67e-4fda-ab93-440719db0914",
   "metadata": {},
   "outputs": [],
   "source": []
  }
 ],
 "metadata": {
  "kernelspec": {
   "display_name": "Python 3 (ipykernel)",
   "language": "python",
   "name": "python3"
  },
  "language_info": {
   "codemirror_mode": {
    "name": "ipython",
    "version": 3
   },
   "file_extension": ".py",
   "mimetype": "text/x-python",
   "name": "python",
   "nbconvert_exporter": "python",
   "pygments_lexer": "ipython3",
   "version": "3.10.8"
  }
 },
 "nbformat": 4,
 "nbformat_minor": 5
}
