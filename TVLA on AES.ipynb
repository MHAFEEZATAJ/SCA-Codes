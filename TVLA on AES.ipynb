{
 "cells": [
  {
   "cell_type": "markdown",
   "id": "e72c7749",
   "metadata": {},
   "source": [
    "# Intializing Scope and Target"
   ]
  },
  {
   "cell_type": "code",
   "execution_count": 1,
   "id": "26c8e0a9",
   "metadata": {},
   "outputs": [],
   "source": [
    "import chipwhisperer as cw"
   ]
  },
  {
   "cell_type": "code",
   "execution_count": 2,
   "id": "ceaa3a59",
   "metadata": {},
   "outputs": [],
   "source": [
    "scope=cw.scope()"
   ]
  },
  {
   "cell_type": "code",
   "execution_count": 3,
   "id": "e0e9b79a",
   "metadata": {},
   "outputs": [],
   "source": [
    "target_type= cw.targets.SimpleSerial"
   ]
  },
  {
   "cell_type": "code",
   "execution_count": 4,
   "id": "83f01f74",
   "metadata": {},
   "outputs": [],
   "source": [
    "target=cw.target(scope,target_type)"
   ]
  },
  {
   "cell_type": "code",
   "execution_count": 5,
   "id": "9b2e9d23",
   "metadata": {},
   "outputs": [],
   "source": [
    "prog = cw.programmers.STM32FProgrammer"
   ]
  },
  {
   "cell_type": "code",
   "execution_count": 6,
   "id": "c9534f22",
   "metadata": {},
   "outputs": [],
   "source": [
    "import time\n",
    "time.sleep(0.05)\n",
    "scope.default_setup()\n",
    "scope.io.nrst = 'low'\n",
    "time.sleep(0.05)\n",
    "scope.io.nrst = 'high_z'\n",
    "time.sleep(0.05)"
   ]
  },
  {
   "cell_type": "code",
   "execution_count": 7,
   "id": "8675a10b",
   "metadata": {},
   "outputs": [],
   "source": [
    "SCOPETYPE = 'OPENADC'\n",
    "PLATFORM = 'CWNANO'\n",
    "CRYPTO_TARGET='TINYAES128C'\n",
    "SS_VER='SS_VER_1_1'"
   ]
  },
  {
   "cell_type": "markdown",
   "id": "991bfa42",
   "metadata": {},
   "source": [
    "# Making the Necessary files for dump"
   ]
  },
  {
   "cell_type": "code",
   "execution_count": 8,
   "id": "a209a2b4",
   "metadata": {
    "scrolled": true
   },
   "outputs": [
    {
     "name": "stdout",
     "output_type": "stream",
     "text": [
      "Building for platform CWNANO with CRYPTO_TARGET=TINYAES128C\n",
      "SS_VER set to SS_VER_1_1\n",
      "SS_VER set to SS_VER_1_1\n",
      "Blank crypto options, building for AES128\n",
      "Building for platform CWNANO with CRYPTO_TARGET=TINYAES128C\n",
      "SS_VER set to SS_VER_1_1\n",
      "SS_VER set to SS_VER_1_1\n",
      "Blank crypto options, building for AES128\n",
      "make[1]: '.dep' is up to date.\n",
      "Building for platform CWNANO with CRYPTO_TARGET=TINYAES128C\n",
      "SS_VER set to SS_VER_1_1\n",
      "SS_VER set to SS_VER_1_1\n",
      "Blank crypto options, building for AES128\n",
      ".\n",
      "Welcome to another exciting ChipWhisperer target build!!\n",
      "arm-none-eabi-gcc (GNU Arm Embedded Toolchain 10-2020-q4-major) 10.2.1 20201103 (release)\n",
      "Copyright (C) 2020 Free Software Foundation, Inc.\n",
      "This is free software; see the source for copying conditions.  There is NO\n",
      "warranty; not even for MERCHANTABILITY or FITNESS FOR A PARTICULAR PURPOSE.\n",
      "\n",
      ".\n",
      "Compiling:\n",
      "    simpleserial-aes.c ...Done!\n",
      ".\n",
      "Compiling:\n",
      "    .././simpleserial/simpleserial.c ...Done!\n",
      ".\n",
      "Compiling:\n",
      "    .././hal/stm32f0_nano/stm32f0_hal_nano.c ...Done!\n",
      ".\n",
      "Compiling:\n",
      "    .././hal/stm32f0/stm32f0_hal_lowlevel.c ...Done!\n",
      ".\n",
      "Compiling:\n",
      "    .././crypto/tiny-AES128-C/aes.c ...Done!\n",
      ".\n",
      "Compiling:\n",
      "    .././crypto/aes-independant.c ...Done!\n",
      ".\n",
      "Assembling: .././hal/stm32f0/stm32f0_startup.S\n",
      "arm-none-eabi-gcc -c -mcpu=cortex-m0 -I. -x assembler-with-cpp -mthumb -mfloat-abi=soft -ffunction-sections -DF_CPU=7372800 -Wa,-gstabs,-adhlns=objdir-CWNANO/stm32f0_startup.lst -I.././simpleserial/ -I.././simpleserial/ -I.././hal -I.././hal/stm32f0 -I.././hal/stm32f0/CMSIS -I.././hal/stm32f0/CMSIS/core -I.././hal/stm32f0/CMSIS/device -I.././hal/stm32f0/Legacy -I.././crypto/ -I.././crypto/tiny-AES128-C .././hal/stm32f0/stm32f0_startup.S -o objdir-CWNANO/stm32f0_startup.o\n",
      ".\n",
      "LINKING:\n",
      "    simpleserial-aes-CWNANO.elf ...Done!\n",
      ".\n",
      "Creating load file for Flash: simpleserial-aes-CWNANO.hex\n",
      "arm-none-eabi-objcopy -O ihex -R .eeprom -R .fuse -R .lock -R .signature simpleserial-aes-CWNANO.elf simpleserial-aes-CWNANO.hex\n",
      ".\n",
      "Creating load file for Flash: simpleserial-aes-CWNANO.bin\n",
      "arm-none-eabi-objcopy -O binary -R .eeprom -R .fuse -R .lock -R .signature simpleserial-aes-CWNANO.elf simpleserial-aes-CWNANO.bin\n",
      ".\n",
      "Creating load file for EEPROM: simpleserial-aes-CWNANO.eep\n",
      "arm-none-eabi-objcopy -j .eeprom --set-section-flags=.eeprom=\"alloc,load\" \\\n",
      "--change-section-lma .eeprom=0 --no-change-warnings -O ihex simpleserial-aes-CWNANO.elf simpleserial-aes-CWNANO.eep || exit 0\n",
      ".\n",
      "Creating Extended Listing: simpleserial-aes-CWNANO.lss\n",
      "arm-none-eabi-objdump -h -S -z simpleserial-aes-CWNANO.elf > simpleserial-aes-CWNANO.lss\n",
      ".\n",
      "Creating Symbol Table: simpleserial-aes-CWNANO.sym\n",
      "arm-none-eabi-nm -n simpleserial-aes-CWNANO.elf > simpleserial-aes-CWNANO.sym\n",
      "Building for platform CWNANO with CRYPTO_TARGET=TINYAES128C\n",
      "SS_VER set to SS_VER_1_1\n",
      "SS_VER set to SS_VER_1_1\n",
      "Blank crypto options, building for AES128\n",
      "Size after:\n",
      "   text\t   data\t    bss\t    dec\t    hex\tfilename\n",
      "   5432\t    540\t   1628\t   7600\t   1db0\tsimpleserial-aes-CWNANO.elf\n",
      "+--------------------------------------------------------\n",
      "+ Default target does full rebuild each time.\n",
      "+ Specify buildtarget == allquick == to avoid full rebuild\n",
      "+--------------------------------------------------------\n",
      "+--------------------------------------------------------\n",
      "+ Built for platform CWNANO Built-in Target (STM32F030) with:\n",
      "+ CRYPTO_TARGET = TINYAES128C\n",
      "+ CRYPTO_OPTIONS = AES128C\n",
      "+--------------------------------------------------------\n"
     ]
    }
   ],
   "source": [
    "%%sh \n",
    "cd \"C:/Users/ankid/ChipWhisperer5_64/cw/home/portable/chipwhisperer/hardware/victims/firmware/simpleserial-aes\"\n",
    "make PLATFORM=CWNANO CRYPTO_TARGET=TINYAES128C"
   ]
  },
  {
   "cell_type": "markdown",
   "id": "6c3bb673",
   "metadata": {},
   "source": [
    "# Dumping Crypto on Target"
   ]
  },
  {
   "cell_type": "code",
   "execution_count": 9,
   "id": "3e3c4733",
   "metadata": {},
   "outputs": [
    {
     "name": "stdout",
     "output_type": "stream",
     "text": [
      "Detected known STMF32: STM32F04xxx\n",
      "Extended erase (0x44), this can take ten seconds or more\n",
      "Attempting to program 5971 bytes at 0x8000000\n",
      "STM32F Programming flash...\n",
      "STM32F Reading flash...\n",
      "Verified flash OK, 5971 bytes\n"
     ]
    }
   ],
   "source": [
    "cw.program_target(scope, cw.programmers.STM32FProgrammer, \"C:/Users/ankid/ChipWhisperer5_64/cw/home/portable/chipwhisperer/hardware/victims/firmware/simpleserial-aes/simpleserial-aes-CWNANO.hex\")"
   ]
  },
  {
   "cell_type": "markdown",
   "id": "00d90d24",
   "metadata": {},
   "source": [
    "# Writing the key"
   ]
  },
  {
   "cell_type": "code",
   "execution_count": 24,
   "id": "4f6a621a",
   "metadata": {},
   "outputs": [],
   "source": [
    "key = bytearray.fromhex('20 12 32 59 64 36 10 20 38 11 27 54 13 65 24 33')\n",
    "target.simpleserial_write('k', key)\n",
    "time.sleep(0.1)"
   ]
  },
  {
   "cell_type": "markdown",
   "id": "ec41ca27",
   "metadata": {},
   "source": [
    "# Collecting trace for fixed plain texts"
   ]
  },
  {
   "cell_type": "code",
   "execution_count": 11,
   "id": "73e3f29c",
   "metadata": {},
   "outputs": [],
   "source": [
    "from tqdm.notebook import trange\n",
    "import numpy as np\n",
    "import time\n",
    "\n",
    "\n",
    "pt = bytearray.fromhex('00 00 00 00 00 00 00 00 00 00 00 00 00 00 00 00')\n",
    "\n",
    "\n",
    "#target.simpleserial_write('p', pt)\n",
    "time.sleep(0.1)\n",
    "\n",
    "fixed_trace_array = []\n",
    "fixed_textin_array = []\n",
    "fixed_textout_array = []\n",
    "\n",
    "#key, text = ktp.next()\n",
    "\n",
    "#target.set_key(key)\n",
    "\n",
    "N = 1000\n",
    "for i in range(N):\n",
    "    target.flush()\n",
    "    scope.arm()\n",
    "    \n",
    "    target.simpleserial_write('p', pt)\n",
    "    \n",
    "    ret = scope.capture()  # Increase timeout duration\n",
    "\n",
    "    #ret = scope.capture()\n",
    "    if ret:\n",
    "        print(\"Target timed out!\")\n",
    "        continue\n",
    "    \n",
    "    response = target.simpleserial_read('r', 16)\n",
    "\n",
    "    fixed_textout_array.append(response)\n",
    "    \n",
    "    fixed_trace_array.append(scope.get_last_trace())\n",
    "    fixed_textin_array.append(pt)\n",
    "    \n",
    "    #key, text = ktp.next() "
   ]
  },
  {
   "cell_type": "markdown",
   "id": "40456ade",
   "metadata": {},
   "source": [
    "# Collecting Trace for Random Plain text"
   ]
  },
  {
   "cell_type": "code",
   "execution_count": 12,
   "id": "d0513c22",
   "metadata": {},
   "outputs": [],
   "source": [
    "\n",
    "\n",
    "time.sleep(0.1)\n",
    "\n",
    "random_trace_array = []\n",
    "random_textin_array = []\n",
    "random_textout_array = []\n",
    "\n",
    "N = 1000\n",
    "pt=[bytearray([(i+j)%256 for j in range(16)]) for i in range(N)]\n",
    "\n",
    "\n",
    "for i in pt:\n",
    "    target.flush()\n",
    "    scope.arm()\n",
    "    \n",
    "    target.simpleserial_write('p', i)\n",
    "    \n",
    "    ret = scope.capture()  # Increase timeout duration\n",
    "\n",
    "    #ret = scope.capture()\n",
    "    if ret:\n",
    "        print(\"Target timed out!\")\n",
    "        continue\n",
    "    \n",
    "    response = target.simpleserial_read('r', 16)\n",
    "\n",
    "    random_textout_array.append(response)\n",
    "    \n",
    "    random_trace_array.append(scope.get_last_trace())\n",
    "    random_textin_array.append(i)"
   ]
  },
  {
   "cell_type": "markdown",
   "id": "97ccc3ae",
   "metadata": {},
   "source": [
    "# Converting them to Suitable form"
   ]
  },
  {
   "cell_type": "code",
   "execution_count": 15,
   "id": "371c72c8",
   "metadata": {},
   "outputs": [],
   "source": [
    "fixed_trace= np.array(fixed_trace_array)"
   ]
  },
  {
   "cell_type": "code",
   "execution_count": 16,
   "id": "4c088545",
   "metadata": {},
   "outputs": [],
   "source": [
    "random_trace= np.array(random_trace_array)"
   ]
  },
  {
   "cell_type": "markdown",
   "id": "3ca0a91e",
   "metadata": {},
   "source": [
    "# Performing TVLA"
   ]
  },
  {
   "cell_type": "code",
   "execution_count": 22,
   "id": "f8e3a279",
   "metadata": {
    "scrolled": true
   },
   "outputs": [
    {
     "name": "stdout",
     "output_type": "stream",
     "text": [
      "[  2.59450578  11.57021288   3.83552322 ... -27.29254292 -14.15061487\n",
      "  15.05134085]\n",
      "The maximum value is ->  85.74463320710757\n",
      "The potential Lekage detected !!! 85.74463320710757\n"
     ]
    },
    {
     "data": {
      "image/png": "[encoded data removed]",
      "text/plain": [
       "<Figure size 1000x500 with 1 Axes>"
      ]
     },
     "metadata": {},
     "output_type": "display_data"
    }
   ],
   "source": [
    "import numpy as np\n",
    "from scipy.stats import ttest_ind\n",
    "import matplotlib.pyplot as plt\n",
    "\n",
    "def calculate_tvla(trace_set1, trace_set2):\n",
    "    \"\"\"\n",
    "    Calculate TVLA between two sets of power traces.\n",
    "    \n",
    "    Parameters:\n",
    "        trace_set1 (np.ndarray): First set of power traces.\n",
    "        trace_set2 (np.ndarray): Second set of power traces.\n",
    "    \n",
    "    Returns:\n",
    "        np.ndarray: TVLA values.\n",
    "    \"\"\"\n",
    "    # Calculate mean and standard deviation of both sets\n",
    "    mean1 = np.mean(trace_set1, axis=0)\n",
    "    mean2 = np.mean(trace_set2, axis=0)\n",
    "    std1 = np.std(trace_set1, axis=0, ddof=1)\n",
    "    std2 = np.std(trace_set2, axis=0, ddof=1)\n",
    "    \n",
    "    # Number of traces in each set\n",
    "    n1 = trace_set1.shape[0]\n",
    "    n2 = trace_set2.shape[0]\n",
    "    \n",
    "    # Calculate T-test values\n",
    "    t_values = (mean1 - mean2) / np.sqrt((std1**2 / n1) + (std2**2 / n2))\n",
    "    \n",
    "    return t_values\n",
    "\n",
    "# Example usage with power traces\n",
    "# Assuming power_traces1 and power_traces2 are numpy arrays with dimensions (num_traces, trace_length)\n",
    "# power_traces1 = fixed\n",
    "# power_traces2 = random\n",
    "\n",
    "# Calculate TVLA\n",
    "tvla_values = calculate_tvla(fixed_trace, random_trace)\n",
    "\n",
    "# Print TVLA values\n",
    "print(tvla_values)\n",
    "#print(tvla_values.shape)\n",
    "max_value= max(tvla_values)\n",
    "print('The maximum value is -> ',max_value)\n",
    "\n",
    "if max_value> 4.5:\n",
    "    print('The potential Lekage detected !!!', max_value)\n",
    "else:\n",
    "    print('There is no potential Lekage that is detected')\n",
    "\n",
    "\n",
    " # Plot results\n",
    "\n",
    "plt.figure(figsize=(10, 5))\n",
    "plt.plot(tvla_values, label=\"t-values\")\n",
    "plt.axhline(4.5, color=\"r\", linestyle=\"--\", label=\"Threshold (+4.5)\")\n",
    "plt.axhline(-4.5, color=\"r\", linestyle=\"--\", label=\"Threshold (-4.5)\")\n",
    "plt.title(\"TVLA Fixed-vs-Random\")\n",
    "plt.xlabel(\"Sample Index\")\n",
    "plt.ylabel(\"t-value\")\n",
    "plt.legend()\n",
    "plt.grid()\n",
    "plt.show()\n"
   ]
  },
  {
   "cell_type": "markdown",
   "id": "05071e91",
   "metadata": {},
   "source": [
    "# Disconnect from chipwhisperer"
   ]
  },
  {
   "cell_type": "code",
   "execution_count": 25,
   "id": "25a01998-b2a6-4437-a0c0-b84b6464fb5b",
   "metadata": {},
   "outputs": [],
   "source": [
    "scope.dis()\n",
    "target.dis()"
   ]
  },
  {
   "cell_type": "code",
   "execution_count": null,
   "id": "5bf110f1",
   "metadata": {},
   "outputs": [],
   "source": []
  }
 ],
 "metadata": {
  "kernelspec": {
   "display_name": "Python 3 (ipykernel)",
   "language": "python",
   "name": "python3"
  },
  "language_info": {
   "codemirror_mode": {
    "name": "ipython",
    "version": 3
   },
   "file_extension": ".py",
   "mimetype": "text/x-python",
   "name": "python",
   "nbconvert_exporter": "python",
   "pygments_lexer": "ipython3",
   "version": "3.10.8"
  }
 },
 "nbformat": 4,
 "nbformat_minor": 5
}
