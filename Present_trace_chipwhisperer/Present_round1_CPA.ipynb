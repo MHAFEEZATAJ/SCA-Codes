{
 "cells": [
  {
   "cell_type": "code",
   "execution_count": 1,
   "id": "4b0c1a7d",
   "metadata": {},
   "outputs": [],
   "source": [
    "from tqdm.notebook import tnrange\n",
    "from scipy.stats import pearsonr\n",
    "import pandas as pd\n",
    "import numpy as np\n",
    "from IPython.display import clear_output\n",
    "from bokeh.io import output_notebook\n",
    "from bokeh.plotting import figure, show\n",
    "import os\n",
    "import re"
   ]
  },
  {
   "cell_type": "code",
   "execution_count": 2,
   "id": "ed465225",
   "metadata": {},
   "outputs": [
    {
     "data": {
      "text/plain": [
       "array([[239,  77, 239, ..., 157,  71,  38],\n",
       "       [213, 249,  33, ..., 147,  54, 250],\n",
       "       [ 59,  31, 150, ..., 241,   7, 255],\n",
       "       ...,\n",
       "       [213,  78,  16, ...,  38, 106,  38],\n",
       "       [167,   7, 136, ..., 184,   1, 220],\n",
       "       [143,  53, 100, ...,  83, 193,  95]], dtype=uint8)"
      ]
     },
     "execution_count": 2,
     "metadata": {},
     "output_type": "execute_result"
    }
   ],
   "source": [
    "plaintext=np.load('present_plain1.npy')\n",
    "plaintext"
   ]
  },
  {
   "cell_type": "code",
   "execution_count": 3,
   "id": "ffc6ecef",
   "metadata": {},
   "outputs": [
    {
     "data": {
      "text/plain": [
       "array([[167,  12, 155, ..., 239,  35, 123],\n",
       "       [212, 107,  60, ..., 178,  21, 149],\n",
       "       [164, 193, 219, ..., 188,  79,  64],\n",
       "       ...,\n",
       "       [ 38, 224, 127, ..., 206, 190, 210],\n",
       "       [180,  94, 159, ...,  21,  32, 173],\n",
       "       [224, 228, 204, ..., 229,  49, 115]], dtype=uint8)"
      ]
     },
     "execution_count": 3,
     "metadata": {},
     "output_type": "execute_result"
    }
   ],
   "source": [
    "ciphertext=np.load('present_cipher1.npy')\n",
    "ciphertext"
   ]
  },
  {
   "cell_type": "code",
   "execution_count": 4,
   "id": "995e8e2f",
   "metadata": {},
   "outputs": [
    {
     "data": {
      "text/plain": [
       "array([[ 0.04394531, -0.09179688, -0.05859375, ..., -0.08300781,\n",
       "         0.03710938,  0.09667969],\n",
       "       [ 0.04394531, -0.09277344, -0.05957031, ..., -0.0859375 ,\n",
       "         0.03808594,  0.1015625 ],\n",
       "       [ 0.04492188, -0.09179688, -0.05761719, ..., -0.08203125,\n",
       "         0.0390625 ,  0.09863281],\n",
       "       ...,\n",
       "       [ 0.04199219, -0.09277344, -0.06054688, ..., -0.08203125,\n",
       "         0.0390625 ,  0.10058594],\n",
       "       [ 0.04492188, -0.09179688, -0.05957031, ..., -0.08300781,\n",
       "         0.04101562,  0.09863281],\n",
       "       [ 0.04394531, -0.09179688, -0.05957031, ..., -0.08203125,\n",
       "         0.03808594,  0.09960938]])"
      ]
     },
     "execution_count": 4,
     "metadata": {},
     "output_type": "execute_result"
    }
   ],
   "source": [
    "traces=np.load('present_traces1.npy')\n",
    "traces"
   ]
  },
  {
   "cell_type": "code",
   "execution_count": 5,
   "id": "ead42b07",
   "metadata": {},
   "outputs": [
    {
     "data": {
      "text/plain": [
       "(15000, 8)"
      ]
     },
     "execution_count": 5,
     "metadata": {},
     "output_type": "execute_result"
    }
   ],
   "source": [
    "plaintext.shape"
   ]
  },
  {
   "cell_type": "code",
   "execution_count": 6,
   "id": "b1cf119d",
   "metadata": {},
   "outputs": [
    {
     "data": {
      "text/plain": [
       "(15000, 5000)"
      ]
     },
     "execution_count": 6,
     "metadata": {},
     "output_type": "execute_result"
    }
   ],
   "source": [
    "traces.shape"
   ]
  },
  {
   "cell_type": "code",
   "execution_count": 7,
   "id": "8cc17238",
   "metadata": {},
   "outputs": [],
   "source": [
    "import numpy as np\n",
    "\n",
    "# PRESENT S-box\n",
    "PRESENT_SBOX = np.array([\n",
    "    0xC, 0x5, 0x6, 0xB, 0x9, 0x0, 0xA, 0xD,\n",
    "    0x3, 0xE, 0xF, 0x8, 0x4, 0x7, 0x1, 0x2\n",
    "], dtype=np.uint8)\n",
    "\n",
    "def hamming_weight(x):\n",
    "    return bin(x).count(\"1\")\n",
    "\n",
    "def extract_nibbles(plaintexts):\n",
    "    \"\"\"Convert (N,8) byte array to (N,16) nibble array (MSB-first)\"\"\"\n",
    "    nibbles = np.zeros((plaintexts.shape[0], 16), dtype=np.uint8)\n",
    "    \n",
    "    for i in range(plaintexts.shape[0]):\n",
    "        for byte_idx in range(8):\n",
    "            # Extract high nibble (bits 7-4) first\n",
    "            nibbles[i, byte_idx*2] = (plaintexts[i, byte_idx] >> 4) & 0x0F\n",
    "            # Then low nibble (bits 3-0)\n",
    "            nibbles[i, byte_idx*2 + 1] = plaintexts[i, byte_idx] & 0x0F\n",
    "            \n",
    "    return nibbles\n",
    "\n",
    "def cpa_present(traces, plaintexts, start=0, end=5000):\n",
    "    num_traces, num_points = traces.shape\n",
    "    plaintext_nibbles = extract_nibbles(plaintexts)\n",
    "    trace_window = traces[:, start:end].astype(np.float32)\n",
    "    trace_means = np.mean(trace_window, axis=0)\n",
    "    trace_stds = np.std(trace_window, axis=0)\n",
    "    best_key = np.zeros(16, dtype=np.uint8)\n",
    "    \n",
    "    for nib_idx in range(16):\n",
    "        max_corrs = np.zeros(16)\n",
    "        \n",
    "        for key_guess in range(16):\n",
    "            hyp = np.array([\n",
    "                hamming_weight(PRESENT_SBOX[pt ^ key_guess])\n",
    "                for pt in plaintext_nibbles[:, nib_idx]\n",
    "            ], dtype=np.float32)\n",
    "            \n",
    "            hyp_mean = np.mean(hyp)\n",
    "            hyp_std = np.std(hyp)\n",
    "            \n",
    "            # FIX: Reshape hyp for proper broadcasting\n",
    "            hyp_reshaped = (hyp - hyp_mean).reshape(-1, 1)  # Now (15000, 1)\n",
    "            \n",
    "            # Now compatible with (15000,5000) traces\n",
    "            cov = np.mean(hyp_reshaped * (trace_window - trace_means), axis=0)\n",
    "            corr = cov / (hyp_std * trace_stds)\n",
    "            \n",
    "            max_corrs[key_guess] = np.max(np.abs(corr))\n",
    "        \n",
    "        best_guess = np.argmax(max_corrs)\n",
    "        best_key[nib_idx] = best_guess\n",
    "        print(f\"Nibble {nib_idx:2d}: Best guess = {best_guess:1X} (corr {max_corrs[best_guess]:.4f})\")\n",
    "    \n",
    "    return best_key\n"
   ]
  },
  {
   "cell_type": "code",
   "execution_count": 8,
   "id": "32d6f18a",
   "metadata": {
    "scrolled": true
   },
   "outputs": [
    {
     "name": "stdout",
     "output_type": "stream",
     "text": [
      "Nibble  0: Best guess = 0 (corr 0.6773)\n",
      "Nibble  1: Best guess = 1 (corr 0.6886)\n",
      "Nibble  2: Best guess = 0 (corr 0.6607)\n",
      "Nibble  3: Best guess = 1 (corr 0.6448)\n",
      "Nibble  4: Best guess = 0 (corr 0.6531)\n",
      "Nibble  5: Best guess = 1 (corr 0.6613)\n",
      "Nibble  6: Best guess = 0 (corr 0.6547)\n",
      "Nibble  7: Best guess = 1 (corr 0.6687)\n",
      "Nibble  8: Best guess = 0 (corr 0.6451)\n",
      "Nibble  9: Best guess = 1 (corr 0.6792)\n",
      "Nibble 10: Best guess = 0 (corr 0.6330)\n",
      "Nibble 11: Best guess = 1 (corr 0.6794)\n",
      "Nibble 12: Best guess = 0 (corr 0.6384)\n",
      "Nibble 13: Best guess = 1 (corr 0.6926)\n",
      "Nibble 14: Best guess = 0 (corr 0.6468)\n",
      "Nibble 15: Best guess = 1 (corr 0.7033)\n"
     ]
    }
   ],
   "source": [
    "key = cpa_present(traces, plaintext)"
   ]
  }
 ],
 "metadata": {
  "kernelspec": {
   "display_name": "Python 3 (ipykernel)",
   "language": "python",
   "name": "python3"
  },
  "language_info": {
   "codemirror_mode": {
    "name": "ipython",
    "version": 3
   },
   "file_extension": ".py",
   "mimetype": "text/x-python",
   "name": "python",
   "nbconvert_exporter": "python",
   "pygments_lexer": "ipython3",
   "version": "3.10.8"
  }
 },
 "nbformat": 4,
 "nbformat_minor": 5
}
